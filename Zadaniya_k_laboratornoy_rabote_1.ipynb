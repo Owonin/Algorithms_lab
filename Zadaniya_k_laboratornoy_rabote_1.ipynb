{
 "cells": [
  {
   "cell_type": "markdown",
   "id": "indie-addiction",
   "metadata": {},
   "source": [
    "# Контрольные задачи по дисциплине СиАОД No1\n",
    "## Студент группы БСТ-1902 Потрываев А.Г.\n",
    "### Задача 1. «Треугольник с максимальным периметром»\n",
    "Массив A состоит из целых положительных чисел длин отрезков. Составьте из трех отрезков такой треугольник, чтобы его периметр был максимально возможным. Если невозможно составить треугольник с положительной площадью функция возвращает 0 "
   ]
  },
  {
   "cell_type": "code",
   "execution_count": 1,
   "id": "furnished-enough",
   "metadata": {},
   "outputs": [],
   "source": [
    "arr = []\n",
    "arraySize = input(\"Введите кол-во элементов массива: \")\n",
    "for i in range(0, int(arraySize)):\n",
    "    nextNum = input(\"Введите следующие число: \")\n",
    "    arr.append(int(nextNum)) "
   ]
  },
  {
   "cell_type": "code",
   "execution_count": 2,
   "id": "liked-rhythm",
   "metadata": {},
   "outputs": [],
   "source": [
    "def heapify(arr, n, i):\n",
    "    smallest = i\n",
    "    l = 2 * i + 1\n",
    "    r = 2 * i + 2\n",
    "\n",
    "    if l < n and arr[i] > arr[l]:\n",
    "        smallest = l\n",
    "\n",
    "    if r < n and arr[smallest] > arr[r]:\n",
    "        smallest = r\n",
    "\n",
    "    if smallest != i:\n",
    "        arr[i],arr[smallest] = arr[smallest],arr[i]\n",
    "\n",
    "        heapify(arr, n, smallest)\n",
    "\n",
    "\n",
    "def HeapSort(array):\n",
    "    arr=array.copy()\n",
    "    n = len(arr)\n",
    "\n",
    "    for j in range(n, -1, -1):\n",
    "        heapify(arr, n, j)\n",
    "\n",
    "    for j in range(n-1, 0, -1):\n",
    "        arr[j], arr[0] = arr[0], arr[j] \n",
    "        heapify(arr, j, 0)\n",
    "    return arr"
   ]
  },
  {
   "cell_type": "code",
   "execution_count": 3,
   "id": "rational-speaker",
   "metadata": {},
   "outputs": [],
   "source": [
    "arr = HeapSort(arr)"
   ]
  },
  {
   "cell_type": "code",
   "execution_count": 4,
   "id": "variable-species",
   "metadata": {},
   "outputs": [],
   "source": [
    "import math\n",
    "\n",
    "def isInt(value):\n",
    "    try:\n",
    "        int(value)\n",
    "        return True\n",
    "    except ValueError:\n",
    "        return False\n",
    "\n",
    "\n",
    "def Trinagle(a,b,c):\n",
    "    p= (a+b+c)/2\n",
    "    if((p*(p-a)*(p-b)*(p-c))<=0):\n",
    "        return 0\n",
    "    if(isInt((p*(p-a)*(p-b)*(p-c))**(-2))):\n",
    "        return (a+b+c)\n",
    "    else:\n",
    "        return 0\n",
    "    \n",
    "def FindTrinagle(arr):\n",
    "    for i in range(0,len(arr)):\n",
    "        for j in range(i+1,len(arr)):\n",
    "            for k in range(j+1,len(arr)):\n",
    "                if(Trinagle(arr[i],arr[j],arr[k])>0):\n",
    "                    return Trinagle(arr[i],arr[j],arr[k])\n",
    "    return 0\n",
    "                \n",
    "        \n",
    "    \n",
    "    "
   ]
  },
  {
   "cell_type": "code",
   "execution_count": 5,
   "id": "quantitative-classics",
   "metadata": {},
   "outputs": [
    {
     "output_type": "execute_result",
     "data": {
      "text/plain": [
       "0"
      ]
     },
     "metadata": {},
     "execution_count": 5
    }
   ],
   "source": [
    "FindTrinagle(arr)"
   ]
  },
  {
   "cell_type": "markdown",
   "id": "dramatic-repository",
   "metadata": {},
   "source": [
    "### Задача 2. «Максимальное число»\n",
    "Дан массив неотрицательных целых чисел nums. Расположите их в таком порядке, чтобы вместе они образовали максимально возможное число.\n",
    "Замечание:Результат может быть очень большим числом, поэтому представьте его как string, а не integer."
   ]
  },
  {
   "source": [
    "\n",
    "def isBiger(first_num, second_num):\n",
    "    return str(first_num)+str(second_num)>str(second_num)+str(first_num)\n",
    "\n"
   ],
   "cell_type": "code",
   "metadata": {},
   "execution_count": 22,
   "outputs": [
    {
     "output_type": "stream",
     "name": "stdout",
     "text": [
      "False\n"
     ]
    }
   ]
  },
  {
   "cell_type": "code",
   "execution_count": 2,
   "id": "broadband-slope",
   "metadata": {},
   "outputs": [],
   "source": [
    "def heapify_2(arr, n, i):\n",
    "    largest = i\n",
    "    l = 2 * i + 1\n",
    "    r = 2 * i + 2\n",
    "\n",
    "    if l < n and isBiger(arr[i], arr[l]):\n",
    "        largest = l\n",
    "\n",
    "    if r < n and isBiger(arr[largest], arr[r]):\n",
    "        largest = r\n",
    "\n",
    "    if largest != i:\n",
    "        arr[i],arr[largest] = arr[largest],arr[i]\n",
    "\n",
    "        heapify_2(arr, n, largest)\n",
    "\n",
    "\n",
    "def HeapSort_2(array):\n",
    "    arr=array.copy()\n",
    "    n = len(arr)\n",
    "    for j in range(n, -1, -1):\n",
    "        heapify_2(arr, n, j)\n",
    "\n",
    "    for j in range(n-1, 0, -1):\n",
    "        arr[j], arr[0] = arr[0], arr[j] \n",
    "        heapify_2(arr, j, 0)\n",
    "    return arr"
   ]
  },
  {
   "cell_type": "code",
   "execution_count": 3,
   "id": "charming-valentine",
   "metadata": {},
   "outputs": [
    {
     "output_type": "stream",
     "name": "stdout",
     "text": [
      "[2, 10]\n102\n"
     ]
    }
   ],
   "source": [
    "array = []\r\n",
    "arraySize = input(\"Введите кол-во элементов массива: \")\r\n",
    "for i in range(0, int(arraySize)):\r\n",
    "    nextNum = input(\"Введите следующие число: \")\r\n",
    "    array.append(int(nextNum)) \r\n",
    "print(array)\r\n",
    "array = HeapSort_2(array)\r\n",
    "string = \"\"\r\n",
    "for i in range (0, len(array)):\r\n",
    "    string += str(array[i])\r\n",
    "print (string)"
   ]
  },
  {
   "cell_type": "markdown",
   "id": "threatened-shell",
   "metadata": {},
   "source": [
    "### Задача 3. «Сортировка диагоналей в матрице»\n",
    "Дана матрица mat размером m * n, значения целочисленные. Напишите функцию, сортирующую каждую диагональ матрицы по возрастанию и возвращающую получившуюся матрицу."
   ]
  },
  {
   "cell_type": "code",
   "execution_count": 4,
   "id": "needed-return",
   "metadata": {},
   "outputs": [],
   "source": [
    "m=5\n",
    "n=5\n",
    "min_limit=-250\n",
    "max_limit=1015\n",
    "\n",
    "strM=input(\"\\n\\nВведите m: \")\n",
    "if len(strM)>0: m=int(strM)\n",
    "\n",
    "strN=input(\"Введите n: \")\n",
    "if len(strN)>0: n=int(strN)\n",
    "    \n",
    "while True:\n",
    "    strMin_limit=input(\"Введите минимальное значение: \")\n",
    "    if len(strMin_limit)>0: min_limit=int(strMin_limit)\n",
    "\n",
    "    strMax_limit=input(\"Введите максимальное значение: \")\n",
    "    if len(strMax_limit)>0: max_limit=int(strMax_limit)\n",
    "            \n",
    "    if (min_limit<=max_limit): break\n",
    "    else: print(\"\\nМинимальный элемент не может быть больше максимального, повторите попытку\\n\")\n"
   ]
  },
  {
   "cell_type": "code",
   "execution_count": 5,
   "metadata": {},
   "outputs": [],
   "source": [
    "import random\n",
    "def randomize(min_limit = -250, max_limit = 1013, n = 5, m = 5):\n",
    "\n",
    "    matrix = [[random.randrange(min_limit, max_limit) for y in range(m)] for x in range(n)]\n",
    "    return matrix"
   ]
  },
  {
   "cell_type": "code",
   "execution_count": 6,
   "metadata": {},
   "outputs": [],
   "source": [
    "def MatrixSort(maxtrix):\r\n",
    "    for x in range(0, n):\r\n",
    "        iterator = 0\r\n",
    "        while(x+iterator<n and iterator<m):\r\n",
    "            j = iterator\r\n",
    "            while(x+j<n and j<m):\r\n",
    "                if(matrix[j+x][j]>matrix[x+iterator][iterator]):\r\n",
    "                    matrix[j+x][j], matrix[x+iterator][iterator] = matrix[x+iterator][iterator], matrix[j+x][j]\r\n",
    "                j += 1\r\n",
    "            iterator += 1\r\n",
    "\r\n",
    "\r\n",
    "    for x in range(m, 0, -1):\r\n",
    "        iterator = 0\r\n",
    "        while(iterator<n and x+iterator<m):\r\n",
    "            j=iterator\r\n",
    "            while(x+j<m and j<n):\r\n",
    "                if(matrix[j][x+j]>matrix[iterator][x+iterator]):\r\n",
    "                    matrix[j][x+j], matrix[iterator][x+iterator] = matrix[iterator][x+iterator], matrix[j][x+j]\r\n",
    "                j += 1\r\n",
    "            iterator += 1"
   ]
  },
  {
   "cell_type": "code",
   "execution_count": 7,
   "metadata": {},
   "outputs": [],
   "source": [
    "def see(matrix):\n",
    "    for i in range (0, n):\n",
    "        print(\"\\n\")\n",
    "        s = \"\"\n",
    "        for j in range (0, m):\n",
    "            s += str(matrix[i][j])+ \"\\t\"\n",
    "        print(s)"
   ]
  },
  {
   "cell_type": "code",
   "execution_count": 8,
   "metadata": {},
   "outputs": [
    {
     "output_type": "stream",
     "name": "stdout",
     "text": [
      "\n\n65\t92\t981\t407\t-126\t\n\n\n1002\t0\t760\t118\t927\t\n\n\n-137\t550\t902\t600\t568\t\n\n\n-85\t553\t709\t18\t192\t\n\n\n121\t76\t-51\t374\t739\t\n\n\n\n\n902\t760\t981\t927\t-126\t\n\n\n1002\t739\t600\t568\t407\t\n\n\n553\t709\t65\t192\t118\t\n\n\n76\t-51\t550\t18\t92\t\n\n\n121\t-85\t-137\t374\t0\t\n"
     ]
    }
   ],
   "source": [
    "matrix = randomize(min_limit, max_limit, n, m)\n",
    "see(matrix)\n",
    "MatrixSort(matrix)\n",
    "print(\"\\n\")\n",
    "see(matrix)\n"
   ]
  },
  {
   "cell_type": "code",
   "execution_count": null,
   "metadata": {},
   "outputs": [],
   "source": []
  }
 ],
 "metadata": {
  "kernelspec": {
   "display_name": "Python 3",
   "language": "python",
   "name": "python3"
  },
  "language_info": {
   "codemirror_mode": {
    "name": "ipython",
    "version": 3
   },
   "file_extension": ".py",
   "mimetype": "text/x-python",
   "name": "python",
   "nbconvert_exporter": "python",
   "pygments_lexer": "ipython3",
   "version": "3.9.1-final"
  }
 },
 "nbformat": 4,
 "nbformat_minor": 5
}